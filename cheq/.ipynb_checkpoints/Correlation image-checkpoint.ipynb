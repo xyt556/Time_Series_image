{
 "cells": [
  {
   "cell_type": "code",
   "execution_count": 7,
   "id": "e367f69a-3a9a-4a0d-95db-0dd14ac74e13",
   "metadata": {
    "tags": []
   },
   "outputs": [],
   "source": [
    "import numpy as np\n",
    "from osgeo import gdal\n",
    "from osgeo import osr\n",
    "from scipy.stats import pearsonr\n",
    "\n",
    "import matplotlib.pyplot as plt\n",
    "import matplotlib as mpl\n",
    "\n",
    "mpl.rcParams['font.sans-serif'] = ['SimHei']\n",
    "mpl.rcParams['axes.unicode_minus'] = False"
   ]
  },
  {
   "cell_type": "code",
   "execution_count": 2,
   "id": "fe5380f8-bb41-4cc0-b5e4-14bae7047329",
   "metadata": {
    "tags": []
   },
   "outputs": [],
   "source": [
    "# 定义NPP和温度数据文件名列表\n"
   ]
  },
  {
   "cell_type": "code",
   "execution_count": 8,
   "id": "0a2c47d4-db33-456f-8c2d-8b6205763d1c",
   "metadata": {
    "tags": []
   },
   "outputs": [
    {
     "name": "stdout",
     "output_type": "stream",
     "text": [
      "['./NPP_test/NPP_2001.tif', './NPP_test/NPP_2002.tif', './NPP_test/NPP_2003.tif', './NPP_test/NPP_2004.tif', './NPP_test/NPP_2005.tif', './NPP_test/NPP_2006.tif', './NPP_test/NPP_2007.tif', './NPP_test/NPP_2008.tif', './NPP_test/NPP_2009.tif', './NPP_test/NPP_2010.tif', './NPP_test/NPP_2011.tif', './NPP_test/NPP_2012.tif', './NPP_test/NPP_2013.tif', './NPP_test/NPP_2014.tif', './NPP_test/NPP_2015.tif', './NPP_test/NPP_2016.tif', './NPP_test/NPP_2017.tif', './NPP_test/NPP_2018.tif', './NPP_test/NPP_2019.tif', './NPP_test/NPP_2020.tif', './NPP_test/NPP_2021.tif', './NPP_test/NPP_2022.tif']\n",
      "['./NPP_test/NPP_2001.tif', './NPP_test/NPP_2002.tif', './NPP_test/NPP_2003.tif', './NPP_test/NPP_2004.tif', './NPP_test/NPP_2005.tif', './NPP_test/NPP_2006.tif', './NPP_test/NPP_2007.tif', './NPP_test/NPP_2008.tif', './NPP_test/NPP_2009.tif', './NPP_test/NPP_2010.tif', './NPP_test/NPP_2011.tif', './NPP_test/NPP_2012.tif', './NPP_test/NPP_2013.tif', './NPP_test/NPP_2014.tif', './NPP_test/NPP_2015.tif', './NPP_test/NPP_2016.tif', './NPP_test/NPP_2017.tif', './NPP_test/NPP_2018.tif', './NPP_test/NPP_2019.tif', './NPP_test/NPP_2020.tif', './NPP_test/NPP_2021.tif', './NPP_test/NPP_2022.tif']\n"
     ]
    }
   ],
   "source": [
    "# 打开多年的TIFF文件并提取NPP数据\n",
    "# image_files = ['CHEQ_500M_2005.tif', 'CHEQ_500M_2010.tif', 'CHEQ_500M_2015.tif', 'CHEQ_500M_2020.tif']  # 替换成你的TIFF文件名列表\n",
    "\n",
    "import os\n",
    "# *********************************获取指定目录下的文件名***********************************\n",
    "# 指定目录路径\n",
    "directory_path = './NPP_test'\n",
    "\n",
    "# 初始化一个空列表，用于存储.tif文件名\n",
    "npp_files = []\n",
    "\n",
    "# 遍历指定目录中的文件\n",
    "for filename in os.listdir(directory_path):\n",
    "    if filename.endswith('.tif'):\n",
    "        npp_files.append(directory_path + '/'+ filename)\n",
    "\n",
    "# 打印存储的.tif文件名列表\n",
    "print(npp_files)\n",
    "# --------------------------------\n",
    "# 指定目录路径\n",
    "directory_path = './NPP_test'\n",
    "\n",
    "# 初始化一个空列表，用于存储.tif文件名\n",
    "temp_files = []\n",
    "\n",
    "# 遍历指定目录中的文件\n",
    "for filename in os.listdir(directory_path):\n",
    "    if filename.endswith('.tif'):\n",
    "        temp_files.append(directory_path + '/'+ filename)\n",
    "\n",
    "        \n",
    "# temp_files = temp_files[::-1]\n",
    "# 打印存储的.tif文件名列表\n",
    "print(temp_files)\n",
    "\n",
    "# *********************************获取指定目录下的文件名***********************************"
   ]
  },
  {
   "cell_type": "code",
   "execution_count": 9,
   "id": "682d1cdf-11c0-4e2f-9c07-d673df8b9c62",
   "metadata": {
    "tags": []
   },
   "outputs": [],
   "source": [
    "import numpy as np\n",
    "from scipy.stats import pearsonr\n",
    "from osgeo import gdal\n",
    "# it'ok\n",
    "# 列出所有NPP和TEMP数据的文件名\n",
    "npp_files = ['./NPP_test/NPP_2001.tif', './NPP_test/NPP_2002.tif', './NPP_test/NPP_2003.tif', './NPP_test/NPP_2004.tif', './NPP_test/NPP_2005.tif', './NPP_test/NPP_2006.tif', './NPP_test/NPP_2007.tif', './NPP_test/NPP_2008.tif', './NPP_test/NPP_2009.tif', './NPP_test/NPP_2010.tif', './NPP_test/NPP_2011.tif', './NPP_test/NPP_2012.tif', './NPP_test/NPP_2013.tif', './NPP_test/NPP_2014.tif', './NPP_test/NPP_2015.tif', './NPP_test/NPP_2016.tif', './NPP_test/NPP_2017.tif', './NPP_test/NPP_2018.tif', './NPP_test/NPP_2019.tif', './NPP_test/NPP_2020.tif', './NPP_test/NPP_2021.tif', './NPP_test/NPP_2022.tif']\n",
    "temp_files = ['./NPP_test/NPP_2022.tif', './NPP_test/NPP_2021.tif', './NPP_test/NPP_2020.tif', './NPP_test/NPP_2019.tif', './NPP_test/NPP_2018.tif', './NPP_test/NPP_2017.tif', './NPP_test/NPP_2016.tif', './NPP_test/NPP_2015.tif', './NPP_test/NPP_2014.tif', './NPP_test/NPP_2013.tif', './NPP_test/NPP_2012.tif', './NPP_test/NPP_2011.tif', './NPP_test/NPP_2010.tif', './NPP_test/NPP_2009.tif', './NPP_test/NPP_2008.tif', './NPP_test/NPP_2007.tif', './NPP_test/NPP_2006.tif', './NPP_test/NPP_2005.tif', './NPP_test/NPP_2004.tif', './NPP_test/NPP_2003.tif', './NPP_test/NPP_2002.tif', './NPP_test/NPP_2001.tif']\n",
    "# 打开一个NPP数据文件以获取元数据信息\n",
    "npp_dataset = gdal.Open(npp_files[0], gdal.GA_ReadOnly)\n",
    "\n",
    "# 获取数据集的行数和列数\n",
    "rows, cols = npp_dataset.RasterYSize, npp_dataset.RasterXSize\n",
    "\n",
    "# 创建一个空白图像以存储相关性结果，与原始数据的大小一致\n",
    "driver = gdal.GetDriverByName('GTiff')\n",
    "correlation_dataset = driver.Create('correlation.tif', cols, rows, 1, gdal.GDT_Float32)\n",
    "correlation_band = correlation_dataset.GetRasterBand(1)\n",
    "\n",
    "# 获取原始数据的地理参考信息，投影等\n",
    "correlation_dataset.SetGeoTransform(npp_dataset.GetGeoTransform())\n",
    "correlation_dataset.SetProjection(npp_dataset.GetProjection())\n",
    "\n",
    "# 创建一个空白的二维数组来存储相关性结果\n",
    "correlation_image = np.empty((rows, cols), dtype=np.float32)\n",
    "\n",
    "# 遍历每个像元位置\n",
    "for i in range(rows):\n",
    "    for j in range(cols):\n",
    "        npp_values = []\n",
    "        temp_values = []\n",
    "\n",
    "        for npp_file, temp_file in zip(npp_files, temp_files):\n",
    "            npp_dataset = gdal.Open(npp_file, gdal.GA_ReadOnly)\n",
    "            temp_dataset = gdal.Open(temp_file, gdal.GA_ReadOnly)\n",
    "\n",
    "            # 读取当前位置的NPP和TEMP数据\n",
    "            npp_pixel = npp_dataset.ReadAsArray(j, i, 1, 1)\n",
    "            temp_pixel = temp_dataset.ReadAsArray(j, i, 1, 1)\n",
    "\n",
    "            # 检查是否有空值\n",
    "            if not np.isnan(npp_pixel[0, 0]) and not np.isnan(temp_pixel[0, 0]):\n",
    "                npp_values.append(npp_pixel[0, 0])\n",
    "                temp_values.append(temp_pixel[0, 0])\n",
    "\n",
    "        # 计算相关性系数\n",
    "        if npp_values and temp_values:\n",
    "            correlation_coefficient, _ = pearsonr(npp_values, temp_values)\n",
    "            correlation_image[i, j] = correlation_coefficient\n",
    "        else:\n",
    "            # 处理空值，将相关性图像中的对应像元设置为特定值，如 np.nan\n",
    "            correlation_image[i, j] = np.nan\n",
    "\n",
    "# 将相关性图像数据写入TIFF文件\n",
    "correlation_band.WriteArray(correlation_image)\n",
    "correlation_band.FlushCache()\n",
    "correlation_dataset = None\n"
   ]
  },
  {
   "cell_type": "code",
   "execution_count": 10,
   "id": "82e0b395-69fc-40fb-b3ed-0cf2f312f837",
   "metadata": {
    "tags": []
   },
   "outputs": [
    {
     "data": {
      "image/png": "[encoded data removed]",
      "text/plain": [
       "<Figure size 640x480 with 2 Axes>"
      ]
     },
     "metadata": {},
     "output_type": "display_data"
    }
   ],
   "source": [
    "plt.imshow(correlation_image, cmap='RdYlGn', interpolation='nearest')\n",
    "plt.colorbar(label=\"Correlation image\")\n",
    "plt.title(\"Correlation image\")\n",
    "plt.show()"
   ]
  },
  {
   "cell_type": "markdown",
   "id": "f1bbe62a-c60e-4f34-a541-35a96b9502ff",
   "metadata": {},
   "source": [
    "优化"
   ]
  },
  {
   "cell_type": "code",
   "execution_count": null,
   "id": "1afafcdf-f5ed-41a4-aa1b-b9c0443acbec",
   "metadata": {},
   "outputs": [],
   "source": [
    "import numpy as np\n",
    "from scipy.stats import pearsonr\n",
    "from osgeo import gdal\n",
    "\n",
    "def correlation(npp_files, temp_files, rows, cols):\n",
    "    # 使用多进程技术并行化遍历像元位置\n",
    "    with concurrent.futures.ThreadPoolExecutor() as executor:\n",
    "        futures = []\n",
    "        for i in range(rows):\n",
    "            for j in range(cols):\n",
    "                futures.append(executor.submit(_correlation_single_pixel, npp_files, temp_files, i, j))\n",
    "\n",
    "        for future in futures:\n",
    "            future.result()\n",
    "\n",
    "def _correlation_single_pixel(npp_files, temp_files, i, j):\n",
    "    # 使用内存映射文件读取原始数据\n",
    "    npp_dataset = gdal.Open(npp_files[0], gdal.GA_ReadOnly)\n",
    "    npp_data = np.memmap(npp_dataset.GetRasterBand(1).ReadAsArray().astype(np.float32), mode='r', order='C')\n",
    "    temp_dataset = gdal.Open(temp_files[0], gdal.GA_ReadOnly)\n",
    "    temp_data = np.memmap(temp_dataset.GetRasterBand(1).ReadAsArray().astype(np.float32), mode='r', order='C')\n",
    "\n",
    "    # 计算相关性系数\n",
    "    npp_values = npp_data[i:i + rows, j:j + cols]\n",
    "    temp_values = temp_data[i:i + rows, j:j + cols]\n",
    "    correlation_coefficient, _ = pearsonr(npp_values, temp_values)\n",
    "\n",
    "    # 将相关性系数写入相关性图像\n",
    "    correlation_image = np.full((rows, cols), np.nan)\n",
    "    correlation_image[i:i + rows, j:j + cols] = correlation_coefficient\n",
    "\n",
    "    # 释放内存映射文件\n",
    "    npp_data.flush()\n",
    "    temp_data.flush()\n",
    "    \n",
    "# 列出所有NPP和TEMP数据的文件名\n",
    "npp_files = ['./NPP_test/NPP_2001.tif', './NPP_test/NPP_2002.tif', './NPP_test/NPP_2003.tif', './NPP_test/NPP_2004.tif', './NPP_test/NPP_2005.tif', './NPP_test/NPP_2006.tif', './NPP_test/NPP_2007.tif', './NPP_test/NPP_2008.tif', './NPP_test/NPP_2009.tif', './NPP_test/NPP_2010.tif', './NPP_test/NPP_2011.tif', './NPP_test/NPP_2012.tif', './NPP_test/NPP_2013.tif', './NPP_test/NPP_2014.tif', './NPP_test/NPP_2015.tif', './NPP_test/NPP_2016.tif', './NPP_test/NPP_2017.tif', './NPP_test/NPP_2018.tif', './NPP_test/NPP_2019.tif', './NPP_test/NPP_2020.tif', './NPP_test/NPP_2021.tif', './NPP_test/NPP_2022.tif']\n",
    "temp_files = ['./NPP_test/NPP_2022.tif', './NPP_test/NPP_2021.tif', './NPP_test/NPP_2020.tif', './NPP_test/NPP_2019.tif', './NPP_test/NPP_2018.tif', './NPP_test/NPP_2017.tif', './NPP_test/NPP_2016.tif', './NPP_test/NPP_2015.tif', './NPP_test/NPP_2014.tif', './NPP_test/NPP_2013.tif', './NPP_test/NPP_2012.tif', './NPP_test/NPP_2011.tif', './NPP_test/NPP_2010.tif', './NPP_test/NPP_2009.tif', './NPP_test/NPP_2008.tif', './NPP_test/NPP_2007.tif', './NPP_test/NPP_2006.tif', './NPP_test/NPP_2005.tif', './NPP_test/NPP_2004.tif', './NPP_test/NPP_2003.tif', './NPP_test/NPP_2002.tif', './NPP_test/NPP_2001.tif']\n",
    "# Open an NPP data file to get metadata\n",
    "npp_dataset = gdal.Open(npp_files[0], gdal.GA_ReadOnly)\n",
    "\n",
    "# Get the number of rows and columns in the dataset\n",
    "rows, cols = npp_dataset.RasterYSize, npp_dataset.RasterXSize\n",
    "correlation(npp_files, temp_files, rows,)"
   ]
  },
  {
   "cell_type": "code",
   "execution_count": 6,
   "id": "c6d3239f-dc41-40e6-9e30-156ac7a3fcd1",
   "metadata": {
    "tags": []
   },
   "outputs": [
    {
     "ename": "NameError",
     "evalue": "name 'npp_file' is not defined",
     "output_type": "error",
     "traceback": [
      "\u001b[1;31m---------------------------------------------------------------------------\u001b[0m",
      "\u001b[1;31mEmpty\u001b[0m                                     Traceback (most recent call last)",
      "File \u001b[1;32mE:\\Geo_Data\\venv\\lib\\site-packages\\joblib\\parallel.py:862\u001b[0m, in \u001b[0;36mParallel.dispatch_one_batch\u001b[1;34m(self, iterator)\u001b[0m\n\u001b[0;32m    861\u001b[0m \u001b[38;5;28;01mtry\u001b[39;00m:\n\u001b[1;32m--> 862\u001b[0m     tasks \u001b[38;5;241m=\u001b[39m \u001b[38;5;28;43mself\u001b[39;49m\u001b[38;5;241;43m.\u001b[39;49m\u001b[43m_ready_batches\u001b[49m\u001b[38;5;241;43m.\u001b[39;49m\u001b[43mget\u001b[49m\u001b[43m(\u001b[49m\u001b[43mblock\u001b[49m\u001b[38;5;241;43m=\u001b[39;49m\u001b[38;5;28;43;01mFalse\u001b[39;49;00m\u001b[43m)\u001b[49m\n\u001b[0;32m    863\u001b[0m \u001b[38;5;28;01mexcept\u001b[39;00m queue\u001b[38;5;241m.\u001b[39mEmpty:\n\u001b[0;32m    864\u001b[0m     \u001b[38;5;66;03m# slice the iterator n_jobs * batchsize items at a time. If the\u001b[39;00m\n\u001b[0;32m    865\u001b[0m     \u001b[38;5;66;03m# slice returns less than that, then the current batchsize puts\u001b[39;00m\n\u001b[1;32m   (...)\u001b[0m\n\u001b[0;32m    868\u001b[0m     \u001b[38;5;66;03m# accordingly to distribute evenly the last items between all\u001b[39;00m\n\u001b[0;32m    869\u001b[0m     \u001b[38;5;66;03m# workers.\u001b[39;00m\n",
      "File \u001b[1;32m~\\AppData\\Local\\Programs\\Python\\Python310\\lib\\queue.py:168\u001b[0m, in \u001b[0;36mQueue.get\u001b[1;34m(self, block, timeout)\u001b[0m\n\u001b[0;32m    167\u001b[0m     \u001b[38;5;28;01mif\u001b[39;00m \u001b[38;5;129;01mnot\u001b[39;00m \u001b[38;5;28mself\u001b[39m\u001b[38;5;241m.\u001b[39m_qsize():\n\u001b[1;32m--> 168\u001b[0m         \u001b[38;5;28;01mraise\u001b[39;00m Empty\n\u001b[0;32m    169\u001b[0m \u001b[38;5;28;01melif\u001b[39;00m timeout \u001b[38;5;129;01mis\u001b[39;00m \u001b[38;5;28;01mNone\u001b[39;00m:\n",
      "\u001b[1;31mEmpty\u001b[0m: ",
      "\nDuring handling of the above exception, another exception occurred:\n",
      "\u001b[1;31mNameError\u001b[0m                                 Traceback (most recent call last)",
      "Cell \u001b[1;32mIn[6], line 40\u001b[0m\n\u001b[0;32m     38\u001b[0m \u001b[38;5;66;03m# Use parallel processing to calculate correlations\u001b[39;00m\n\u001b[0;32m     39\u001b[0m num_threads \u001b[38;5;241m=\u001b[39m \u001b[38;5;241m4\u001b[39m  \u001b[38;5;66;03m# You can adjust this based on the number of CPU cores\u001b[39;00m\n\u001b[1;32m---> 40\u001b[0m results \u001b[38;5;241m=\u001b[39m \u001b[43mParallel\u001b[49m\u001b[43m(\u001b[49m\u001b[43mn_jobs\u001b[49m\u001b[38;5;241;43m=\u001b[39;49m\u001b[43mnum_threads\u001b[49m\u001b[43m)\u001b[49m\u001b[43m(\u001b[49m\u001b[43mdelayed\u001b[49m\u001b[43m(\u001b[49m\u001b[43mcalculate_correlation\u001b[49m\u001b[43m)\u001b[49m\u001b[43m(\u001b[49m\u001b[43mnpp_file\u001b[49m\u001b[43m,\u001b[49m\u001b[43m \u001b[49m\u001b[43mtemp_file\u001b[49m\u001b[43m,\u001b[49m\u001b[43m \u001b[49m\u001b[43mj\u001b[49m\u001b[43m,\u001b[49m\u001b[43m \u001b[49m\u001b[43mi\u001b[49m\u001b[43m)\u001b[49m\n\u001b[0;32m     41\u001b[0m \u001b[43m                                      \u001b[49m\u001b[38;5;28;43;01mfor\u001b[39;49;00m\u001b[43m \u001b[49m\u001b[43mi\u001b[49m\u001b[43m \u001b[49m\u001b[38;5;129;43;01min\u001b[39;49;00m\u001b[43m \u001b[49m\u001b[38;5;28;43mrange\u001b[39;49m\u001b[43m(\u001b[49m\u001b[43mrows\u001b[49m\u001b[43m)\u001b[49m\u001b[43m \u001b[49m\u001b[38;5;28;43;01mfor\u001b[39;49;00m\u001b[43m \u001b[49m\u001b[43mj\u001b[49m\u001b[43m \u001b[49m\u001b[38;5;129;43;01min\u001b[39;49;00m\u001b[43m \u001b[49m\u001b[38;5;28;43mrange\u001b[39;49m\u001b[43m(\u001b[49m\u001b[43mcols\u001b[49m\u001b[43m)\u001b[49m\u001b[43m)\u001b[49m\n\u001b[0;32m     43\u001b[0m \u001b[38;5;66;03m# Convert the results to a NumPy array\u001b[39;00m\n\u001b[0;32m     44\u001b[0m correlation_image \u001b[38;5;241m=\u001b[39m np\u001b[38;5;241m.\u001b[39marray(results)\u001b[38;5;241m.\u001b[39mreshape((rows, cols))\n",
      "File \u001b[1;32mE:\\Geo_Data\\venv\\lib\\site-packages\\joblib\\parallel.py:1085\u001b[0m, in \u001b[0;36mParallel.__call__\u001b[1;34m(self, iterable)\u001b[0m\n\u001b[0;32m   1076\u001b[0m \u001b[38;5;28;01mtry\u001b[39;00m:\n\u001b[0;32m   1077\u001b[0m     \u001b[38;5;66;03m# Only set self._iterating to True if at least a batch\u001b[39;00m\n\u001b[0;32m   1078\u001b[0m     \u001b[38;5;66;03m# was dispatched. In particular this covers the edge\u001b[39;00m\n\u001b[1;32m   (...)\u001b[0m\n\u001b[0;32m   1082\u001b[0m     \u001b[38;5;66;03m# was very quick and its callback already dispatched all the\u001b[39;00m\n\u001b[0;32m   1083\u001b[0m     \u001b[38;5;66;03m# remaining jobs.\u001b[39;00m\n\u001b[0;32m   1084\u001b[0m     \u001b[38;5;28mself\u001b[39m\u001b[38;5;241m.\u001b[39m_iterating \u001b[38;5;241m=\u001b[39m \u001b[38;5;28;01mFalse\u001b[39;00m\n\u001b[1;32m-> 1085\u001b[0m     \u001b[38;5;28;01mif\u001b[39;00m \u001b[38;5;28;43mself\u001b[39;49m\u001b[38;5;241;43m.\u001b[39;49m\u001b[43mdispatch_one_batch\u001b[49m\u001b[43m(\u001b[49m\u001b[43miterator\u001b[49m\u001b[43m)\u001b[49m:\n\u001b[0;32m   1086\u001b[0m         \u001b[38;5;28mself\u001b[39m\u001b[38;5;241m.\u001b[39m_iterating \u001b[38;5;241m=\u001b[39m \u001b[38;5;28mself\u001b[39m\u001b[38;5;241m.\u001b[39m_original_iterator \u001b[38;5;129;01mis\u001b[39;00m \u001b[38;5;129;01mnot\u001b[39;00m \u001b[38;5;28;01mNone\u001b[39;00m\n\u001b[0;32m   1088\u001b[0m     \u001b[38;5;28;01mwhile\u001b[39;00m \u001b[38;5;28mself\u001b[39m\u001b[38;5;241m.\u001b[39mdispatch_one_batch(iterator):\n",
      "File \u001b[1;32mE:\\Geo_Data\\venv\\lib\\site-packages\\joblib\\parallel.py:873\u001b[0m, in \u001b[0;36mParallel.dispatch_one_batch\u001b[1;34m(self, iterator)\u001b[0m\n\u001b[0;32m    870\u001b[0m n_jobs \u001b[38;5;241m=\u001b[39m \u001b[38;5;28mself\u001b[39m\u001b[38;5;241m.\u001b[39m_cached_effective_n_jobs\n\u001b[0;32m    871\u001b[0m big_batch_size \u001b[38;5;241m=\u001b[39m batch_size \u001b[38;5;241m*\u001b[39m n_jobs\n\u001b[1;32m--> 873\u001b[0m islice \u001b[38;5;241m=\u001b[39m \u001b[38;5;28;43mlist\u001b[39;49m\u001b[43m(\u001b[49m\u001b[43mitertools\u001b[49m\u001b[38;5;241;43m.\u001b[39;49m\u001b[43mislice\u001b[49m\u001b[43m(\u001b[49m\u001b[43miterator\u001b[49m\u001b[43m,\u001b[49m\u001b[43m \u001b[49m\u001b[43mbig_batch_size\u001b[49m\u001b[43m)\u001b[49m\u001b[43m)\u001b[49m\n\u001b[0;32m    874\u001b[0m \u001b[38;5;28;01mif\u001b[39;00m \u001b[38;5;28mlen\u001b[39m(islice) \u001b[38;5;241m==\u001b[39m \u001b[38;5;241m0\u001b[39m:\n\u001b[0;32m    875\u001b[0m     \u001b[38;5;28;01mreturn\u001b[39;00m \u001b[38;5;28;01mFalse\u001b[39;00m\n",
      "Cell \u001b[1;32mIn[6], line 40\u001b[0m, in \u001b[0;36m<genexpr>\u001b[1;34m(.0)\u001b[0m\n\u001b[0;32m     38\u001b[0m \u001b[38;5;66;03m# Use parallel processing to calculate correlations\u001b[39;00m\n\u001b[0;32m     39\u001b[0m num_threads \u001b[38;5;241m=\u001b[39m \u001b[38;5;241m4\u001b[39m  \u001b[38;5;66;03m# You can adjust this based on the number of CPU cores\u001b[39;00m\n\u001b[1;32m---> 40\u001b[0m results \u001b[38;5;241m=\u001b[39m Parallel(n_jobs\u001b[38;5;241m=\u001b[39mnum_threads)(delayed(calculate_correlation)(\u001b[43mnpp_file\u001b[49m, temp_file, j, i)\n\u001b[0;32m     41\u001b[0m                                       \u001b[38;5;28;01mfor\u001b[39;00m i \u001b[38;5;129;01min\u001b[39;00m \u001b[38;5;28mrange\u001b[39m(rows) \u001b[38;5;28;01mfor\u001b[39;00m j \u001b[38;5;129;01min\u001b[39;00m \u001b[38;5;28mrange\u001b[39m(cols))\n\u001b[0;32m     43\u001b[0m \u001b[38;5;66;03m# Convert the results to a NumPy array\u001b[39;00m\n\u001b[0;32m     44\u001b[0m correlation_image \u001b[38;5;241m=\u001b[39m np\u001b[38;5;241m.\u001b[39marray(results)\u001b[38;5;241m.\u001b[39mreshape((rows, cols))\n",
      "\u001b[1;31mNameError\u001b[0m: name 'npp_file' is not defined"
     ]
    }
   ],
   "source": [
    "import numpy as np\n",
    "from scipy.stats import pearsonr\n",
    "from osgeo import gdal\n",
    "from joblib import Parallel, delayed\n",
    "\n",
    "# Define the calculate correlation function\n",
    "def calculate_correlation(npp_file, temp_file, x, y):\n",
    "    npp_dataset = gdal.Open(npp_file, gdal.GA_ReadOnly)\n",
    "    temp_dataset = gdal.Open(temp_file, gdal.GA_ReadOnly)\n",
    "\n",
    "    npp_pixel = npp_dataset.ReadAsArray(x, y, 1, 1)\n",
    "    temp_pixel = temp_dataset.ReadAsArray(x, y, 1, 1)\n",
    "\n",
    "    if not np.isnan(npp_pixel[0, 0]) and not np.isnan(temp_pixel[0, 0]):\n",
    "        return pearsonr(npp_pixel[0, 0], temp_pixel[0, 0])[0]\n",
    "    else:\n",
    "        return np.nan\n",
    "\n",
    "# List all NPP and TEMP data file paths\n",
    "npp_files = ['./NPP_test/NPP_2001.tif', './NPP_test/NPP_2002.tif', './NPP_test/NPP_2003.tif', './NPP_test/NPP_2004.tif', './NPP_test/NPP_2005.tif', './NPP_test/NPP_2006.tif', './NPP_test/NPP_2007.tif', './NPP_test/NPP_2008.tif', './NPP_test/NPP_2009.tif', './NPP_test/NPP_2010.tif', './NPP_test/NPP_2011.tif', './NPP_test/NPP_2012.tif', './NPP_test/NPP_2013.tif', './NPP_test/NPP_2014.tif', './NPP_test/NPP_2015.tif', './NPP_test/NPP_2016.tif', './NPP_test/NPP_2017.tif', './NPP_test/NPP_2018.tif', './NPP_test/NPP_2019.tif', './NPP_test/NPP_2020.tif', './NPP_test/NPP_2021.tif', './NPP_test/NPP_2022.tif']\n",
    "temp_files = ['./NPP_test/NPP_2022.tif', './NPP_test/NPP_2021.tif', './NPP_test/NPP_2020.tif', './NPP_test/NPP_2019.tif', './NPP_test/NPP_2018.tif', './NPP_test/NPP_2017.tif', './NPP_test/NPP_2016.tif', './NPP_test/NPP_2015.tif', './NPP_test/NPP_2014.tif', './NPP_test/NPP_2013.tif', './NPP_test/NPP_2012.tif', './NPP_test/NPP_2011.tif', './NPP_test/NPP_2010.tif', './NPP_test/NPP_2009.tif', './NPP_test/NPP_2008.tif', './NPP_test/NPP_2007.tif', './NPP_test/NPP_2006.tif', './NPP_test/NPP_2005.tif', './NPP_test/NPP_2004.tif', './NPP_test/NPP_2003.tif', './NPP_test/NPP_2002.tif', './NPP_test/NPP_2001.tif']\n",
    "\n",
    "# Open an NPP data file to get metadata\n",
    "npp_dataset = gdal.Open(npp_files[0], gdal.GA_ReadOnly)\n",
    "\n",
    "# Get the number of rows and columns in the dataset\n",
    "rows, cols = npp_dataset.RasterYSize, npp_dataset.RasterXSize\n",
    "\n",
    "# Create an empty image to store the correlation results, with the same size as the original data\n",
    "driver = gdal.GetDriverByName('GTiff')\n",
    "correlation_dataset = driver.Create('correlation.tif', cols, rows, 1, gdal.GDT_Float32)\n",
    "correlation_band = correlation_dataset.GetRasterBand(1)\n",
    "\n",
    "# Get the georeferencing information, projection, etc. from the original data\n",
    "correlation_dataset.SetGeoTransform(npp_dataset.GetGeoTransform())\n",
    "correlation_dataset.SetProjection(npp_dataset.GetProjection())\n",
    "\n",
    "# Use parallel processing to calculate correlations\n",
    "num_threads = 4  # You can adjust this based on the number of CPU cores\n",
    "results = Parallel(n_jobs=num_threads)(delayed(calculate_correlation)(npp_file, temp_file, j, i)\n",
    "                                      for i in range(rows) for j in range(cols))\n",
    "\n",
    "# Convert the results to a NumPy array\n",
    "correlation_image = np.array(results).reshape((rows, cols))\n",
    "\n",
    "# Write the correlation image data to a TIFF file\n",
    "correlation_band.WriteArray(correlation_image)\n",
    "correlation_band.FlushCache()\n",
    "correlation_dataset = None\n"
   ]
  },
  {
   "cell_type": "code",
   "execution_count": null,
   "id": "ccefb99b-ac4b-4d8b-a729-3cec327f1ce4",
   "metadata": {},
   "outputs": [],
   "source": []
  },
  {
   "cell_type": "code",
   "execution_count": null,
   "id": "626e1344-5d33-4339-8806-930a1a2e5377",
   "metadata": {},
   "outputs": [],
   "source": []
  },
  {
   "cell_type": "code",
   "execution_count": null,
   "id": "15f64189-4685-4228-b12d-d8a2ffa90c59",
   "metadata": {},
   "outputs": [],
   "source": []
  },
  {
   "cell_type": "code",
   "execution_count": 1,
   "id": "08f72592-c1be-4953-81dd-50ba9077d500",
   "metadata": {
    "tags": []
   },
   "outputs": [],
   "source": [
    "import numpy as np\n",
    "import rasterio as rio\n",
    "from rasterio.mask import mask\n",
    "\n",
    "def correlation(npp_date, temp_data):\n",
    "\n",
    "    # 读取图像数据\n",
    "    npp = rio.open(npp_date[0])\n",
    "    temp = rio.open(temp_data[0])\n",
    "\n",
    "    # 剔除空值\n",
    "    npp_values = npp.read(1)\n",
    "    temp_values = temp.read(1)\n",
    "    mask = np.isfinite(npp_values) & np.isfinite(temp_values)\n",
    "    npp_values = npp_values[mask]\n",
    "    temp_values = temp_values[mask]\n",
    "\n",
    "    # 计算相关系数\n",
    "    correlation = np.corrcoef(npp_values, temp_values)[0, 1]\n",
    "\n",
    "    # 显示输出\n",
    "    print(correlation)\n",
    "\n",
    "    # 保存结果\n",
    "    output = rio.open('output.tif', 'w', **npp.profile)\n",
    "    output.write_band(1, correlation.astype(np.float32))\n",
    "    output.close()\n",
    "\n"
   ]
  },
  {
   "cell_type": "code",
   "execution_count": 1,
   "id": "e7a23c29-1c15-4d42-a4fd-80011d454793",
   "metadata": {
    "tags": []
   },
   "outputs": [
    {
     "name": "stdout",
     "output_type": "stream",
     "text": [
      "['./NPP_test/NPP_2001.tif', './NPP_test/NPP_2002.tif', './NPP_test/NPP_2003.tif', './NPP_test/NPP_2004.tif', './NPP_test/NPP_2005.tif', './NPP_test/NPP_2006.tif', './NPP_test/NPP_2007.tif', './NPP_test/NPP_2008.tif', './NPP_test/NPP_2009.tif', './NPP_test/NPP_2010.tif', './NPP_test/NPP_2011.tif', './NPP_test/NPP_2012.tif', './NPP_test/NPP_2013.tif', './NPP_test/NPP_2014.tif', './NPP_test/NPP_2015.tif', './NPP_test/NPP_2016.tif', './NPP_test/NPP_2017.tif', './NPP_test/NPP_2018.tif', './NPP_test/NPP_2019.tif', './NPP_test/NPP_2020.tif', './NPP_test/NPP_2021.tif', './NPP_test/NPP_2022.tif']\n",
      "['./NPP/NPP_2022.tif', './NPP/NPP_2021.tif', './NPP/NPP_2020.tif', './NPP/NPP_2019.tif', './NPP/NPP_2018.tif', './NPP/NPP_2017.tif', './NPP/NPP_2016.tif', './NPP/NPP_2015.tif', './NPP/NPP_2014.tif', './NPP/NPP_2013.tif', './NPP/NPP_2012.tif', './NPP/NPP_2011.tif', './NPP/NPP_2010.tif', './NPP/NPP_2009.tif', './NPP/NPP_2008.tif', './NPP/NPP_2007.tif', './NPP/NPP_2006.tif', './NPP/NPP_2005.tif', './NPP/NPP_2004.tif', './NPP/NPP_2003.tif', './NPP/NPP_2002.tif', './NPP/NPP_2001.tif']\n"
     ]
    }
   ],
   "source": [
    "# 打开多年的TIFF文件并提取NPP数据\n",
    "# image_files = ['CHEQ_500M_2005.tif', 'CHEQ_500M_2010.tif', 'CHEQ_500M_2015.tif', 'CHEQ_500M_2020.tif']  # 替换成你的TIFF文件名列表\n",
    "\n",
    "import os\n",
    "# *********************************获取指定目录下的文件名***********************************\n",
    "# 指定目录路径\n",
    "directory_path = './NPP_test'\n",
    "\n",
    "# 初始化一个空列表，用于存储.tif文件名\n",
    "npp_files = []\n",
    "\n",
    "# 遍历指定目录中的文件\n",
    "for filename in os.listdir(directory_path):\n",
    "    if filename.endswith('.tif'):\n",
    "        npp_files.append(directory_path + '/'+ filename)\n",
    "\n",
    "# 打印存储的.tif文件名列表\n",
    "print(npp_files)\n",
    "# --------------------------------\n",
    "# 指定目录路径\n",
    "directory_path = './NPP'\n",
    "\n",
    "# 初始化一个空列表，用于存储.tif文件名\n",
    "temp_files = []\n",
    "\n",
    "# 遍历指定目录中的文件\n",
    "for filename in os.listdir(directory_path):\n",
    "    if filename.endswith('.tif'):\n",
    "        temp_files.append(directory_path + '/'+ filename)\n",
    "\n",
    "        \n",
    "temp_files = temp_files[::-1]\n",
    "# 打印存储的.tif文件名列表\n",
    "print(temp_files)\n",
    "\n",
    "# *********************************获取指定目录下的文件名***********************************"
   ]
  },
  {
   "cell_type": "code",
   "execution_count": null,
   "id": "8b0848ad-ee2e-4c7b-96de-add188da804c",
   "metadata": {
    "tags": []
   },
   "outputs": [],
   "source": [
    "# 打开一个NPP数据文件以获取元数据信息\n",
    "npp_dataset = gdal.Open(npp_files[0], gdal.GA_ReadOnly)\n",
    "\n",
    "# 获取数据集的行数和列数\n",
    "rows, cols = npp_dataset.RasterYSize, npp_dataset.RasterXSize\n",
    "\n",
    "# 创建一个空白图像以存储相关性结果，与原始数据的大小一致\n",
    "driver = gdal.GetDriverByName('GTiff')\n",
    "correlation_dataset = driver.Create('correlation.tif', cols, rows, 1, gdal.GDT_Float32)\n",
    "correlation_band = correlation_dataset.GetRasterBand(1)\n",
    "\n",
    "# 获取原始数据的地理参考信息，投影等\n",
    "correlation_dataset.SetGeoTransform(npp_dataset.GetGeoTransform())\n",
    "correlation_dataset.SetProjection(npp_dataset.GetProjection())\n",
    "\n",
    "# 创建一个空白的二维数组来存储相关性结果\n",
    "correlation_image = np.empty((rows, cols), dtype=np.float32)\n",
    "\n",
    "# 遍历每个像元位置\n",
    "for i in range(rows):\n",
    "    for j in range(cols):\n",
    "        npp_values = []\n",
    "        temp_values = []\n",
    "        \n",
    "        for npp_file, temp_file in zip(npp_files, temp_files):\n",
    "            npp_dataset = gdal.Open(npp_file, gdal.GA_ReadOnly)\n",
    "            temp_dataset = gdal.Open(temp_file, gdal.GA_ReadOnly)\n",
    "            \n",
    "            # 读取当前位置的NPP和TEMP数据\n",
    "            npp_pixel = npp_dataset.ReadAsArray(j, i, 1, 1)\n",
    "            temp_pixel = temp_dataset.ReadAsArray(j, i, 1, 1)\n",
    "            \n",
    "            # 检查是否有空值\n",
    "            if not np.isnan(npp_pixel) and not np.isnan(temp_pixel):\n",
    "                npp_values.append(npp_pixel[0, 0])\n",
    "                temp_values.append(temp_pixel[0, 0])\n",
    "\n",
    "        # 计算相关性系数\n",
    "        if npp_values and temp_values:\n",
    "            correlation_coefficient, _ = pearsonr(npp_values, temp_values)\n",
    "            correlation_image[i, j] = correlation_coefficient\n",
    "        else:\n",
    "            # 处理空值，将相关性图像中的对应像元设置为特定值，如 np.nan\n",
    "            correlation_image[i, j] = np.nan\n",
    "\n",
    "# 将相关性图像数据写入TIFF文件\n",
    "correlation_band.WriteArray(correlation_image)\n",
    "correlation_band.FlushCache()\n",
    "correlation_dataset = None\n"
   ]
  },
  {
   "cell_type": "markdown",
   "id": "8960536a-f4e0-438c-be17-a2a13ad57769",
   "metadata": {},
   "source": [
    "我有2001到2022年的npp和temp图像，我希望针对每一个像元，提取各个年份的npp和temp，根据提取的这个数据计算相关系数，并将相关系数值存到这个像元里面，最后形成一个单波段影像，像元值代表每一个像元多年的npp和temp之间的相关性"
   ]
  },
  {
   "cell_type": "code",
   "execution_count": null,
   "id": "2824329c-a468-4230-a0d7-5affde015780",
   "metadata": {
    "tags": []
   },
   "outputs": [],
   "source": [
    "import numpy as np\n",
    "from scipy.stats import pearsonr\n",
    "from osgeo import gdal, osr\n",
    "\n",
    "# 列出所有NPP和TEMP数据的文件名\n",
    "# npp_files = ['npp_2001.tif', 'npp_2002.tif', ...]  # 包括所有年份的NPP数据\n",
    "# temp_files = ['temp_2001.tif', 'temp_2002.tif', ...]  # 包括所有年份的TEMP数据\n",
    "\n",
    "# 打开第一个NPP数据文件以获取元数据信息\n",
    "npp_dataset = gdal.Open(npp_files[0], gdal.GA_ReadOnly)\n",
    "\n",
    "# 获取数据集的行数和列数\n",
    "rows, cols = npp_dataset.RasterYSize, npp_dataset.RasterXSize\n",
    "\n",
    "# 创建一个空白图像以存储相关性结果，与原始数据的大小一致\n",
    "driver = gdal.GetDriverByName('GTiff')\n",
    "correlation_dataset = driver.Create('correlation.tif', cols, rows, 1, gdal.GDT_Float32)\n",
    "correlation_band = correlation_dataset.GetRasterBand(1)\n",
    "\n",
    "# 获取原始数据的地理参考信息，投影等\n",
    "correlation_dataset.SetGeoTransform(npp_dataset.GetGeoTransform())\n",
    "correlation_dataset.SetProjection(npp_dataset.GetProjection())\n",
    "\n",
    "# 创建一个空白的二维数组来存储相关性结果\n",
    "correlation_image = np.empty((rows, cols), dtype=np.float32)\n",
    "\n",
    "# 遍历每个像元位置\n",
    "for i in range(rows):\n",
    "    for j in range(cols):\n",
    "        npp_values = []\n",
    "        temp_values = []\n",
    "        for npp_file, temp_file in zip(npp_files, temp_files):\n",
    "            npp_dataset = gdal.Open(npp_file, gdal.GA_ReadOnly)\n",
    "            temp_dataset = gdal.Open(temp_file, gdal.GA_ReadOnly)\n",
    "            npp_pixel = npp_dataset.ReadAsArray(j, i, 1, 1)\n",
    "            temp_pixel = temp_dataset.ReadAsArray(j, i, 1, 1)\n",
    "\n",
    "            # 检查是否有空值\n",
    "            if not np.isnan(npp_pixel) and not np.isnan(temp_pixel):\n",
    "                npp_values.append(npp_pixel[0, 0])\n",
    "                temp_values.append(temp_pixel[0, 0])\n",
    "\n",
    "        # 计算相关性系数\n",
    "        if npp_values and temp_values:\n",
    "            correlation_coefficient, _ = pearsonr(npp_values, temp_values)\n",
    "            correlation_image[i, j] = correlation_coefficient\n",
    "        else:\n",
    "            # 处理空值，将相关性图像中的对应像元设置为特定值，如 np.nan\n",
    "            correlation_image[i, j] = np.nan\n",
    "\n",
    "# 将相关性图像数据写入TIFF文件\n",
    "correlation_band.WriteArray(correlation_image)\n",
    "correlation_band.FlushCache()\n",
    "correlation_dataset = None\n"
   ]
  },
  {
   "cell_type": "code",
   "execution_count": null,
   "id": "e929f7ce-3cbb-4283-988e-e3e3c9dc8f79",
   "metadata": {},
   "outputs": [],
   "source": []
  },
  {
   "cell_type": "code",
   "execution_count": 4,
   "id": "edb2b731-5d52-4539-bf69-b52254d4106b",
   "metadata": {
    "tags": []
   },
   "outputs": [],
   "source": [
    "# 以第一个图像为模板打开一个数据文件\n",
    "template_dataset = gdal.Open(npp_files[0], gdal.GA_ReadOnly)\n",
    "geo_transform = template_dataset.GetGeoTransform()\n",
    "projection = template_dataset.GetProjection()\n",
    "npp_data = template_dataset.ReadAsArray()\n",
    "rows, cols = npp_data.shape"
   ]
  },
  {
   "cell_type": "code",
   "execution_count": 8,
   "id": "143dc977-fe72-412a-a562-a2e984da0770",
   "metadata": {
    "tags": []
   },
   "outputs": [
    {
     "ename": "NameError",
     "evalue": "name 'temp_data' is not defined",
     "output_type": "error",
     "traceback": [
      "\u001b[1;31m---------------------------------------------------------------------------\u001b[0m",
      "\u001b[1;31mNameError\u001b[0m                                 Traceback (most recent call last)",
      "Cell \u001b[1;32mIn[8], line 3\u001b[0m\n\u001b[0;32m      1\u001b[0m \u001b[38;5;66;03m# 初始化相关性图像\u001b[39;00m\n\u001b[0;32m      2\u001b[0m \u001b[38;5;66;03m# 创建一个与数据数组形状相同的valid_indices数组，标识有效像元\u001b[39;00m\n\u001b[1;32m----> 3\u001b[0m valid_indices \u001b[38;5;241m=\u001b[39m \u001b[38;5;241m~\u001b[39mnp\u001b[38;5;241m.\u001b[39misnan(npp_data) \u001b[38;5;241m&\u001b[39m \u001b[38;5;241m~\u001b[39mnp\u001b[38;5;241m.\u001b[39misnan(\u001b[43mtemp_data\u001b[49m)\n\u001b[0;32m      4\u001b[0m correlation_image \u001b[38;5;241m=\u001b[39m np\u001b[38;5;241m.\u001b[39mzeros_like(npp_data[\u001b[38;5;241m0\u001b[39m], dtype\u001b[38;5;241m=\u001b[39m\u001b[38;5;28mfloat\u001b[39m)  \u001b[38;5;66;03m# 替换rows和cols为图像的行数和列数\u001b[39;00m\n\u001b[0;32m      5\u001b[0m correlation_image\u001b[38;5;241m.\u001b[39mfill(np\u001b[38;5;241m.\u001b[39mnan)\n",
      "\u001b[1;31mNameError\u001b[0m: name 'temp_data' is not defined"
     ]
    }
   ],
   "source": [
    "# 初始化相关性图像\n",
    "# 创建一个与数据数组形状相同的valid_indices数组，标识有效像元\n",
    "valid_indices = ~np.isnan(npp_data) & ~np.isnan(temp_data)\n",
    "correlation_image = np.zeros_like(npp_data[0], dtype=float)  # 替换rows和cols为图像的行数和列数\n",
    "correlation_image.fill(np.nan)"
   ]
  },
  {
   "cell_type": "code",
   "execution_count": 41,
   "id": "8bf6eb27-f6ed-4678-9317-41844e12191c",
   "metadata": {
    "tags": []
   },
   "outputs": [],
   "source": [
    "# for npp_file, temp_file in zip(npp_files, temp_files):\n",
    "#     # 打开NPP和温度数据文件\n",
    "#     npp_dataset = gdal.Open(npp_file, gdal.GA_ReadOnly)\n",
    "#     temp_dataset = gdal.Open(temp_file, gdal.GA_ReadOnly)\n",
    "\n",
    "#     # 读取NPP和温度数据为NumPy数组\n",
    "#     npp_data = npp_dataset.ReadAsArray()\n",
    "#     temp_data = temp_dataset.ReadAsArray()\n",
    "\n",
    "#     valid_indices = valid_indices.reshape(npp_data.shape)\n",
    "#     npp_data_filtered = npp_data.copy()\n",
    "#     temp_data_filtered = temp_data.copy()\n",
    "\n",
    "#     npp_data_filtered[~valid_indices] = np.nan\n",
    "#     temp_data_filtered[~valid_indices] = np.nan\n",
    "\n",
    "#     # 移除包含NaN值的像元\n",
    "#     valid_mask = ~np.isnan(npp_data_filtered) & ~np.isnan(temp_data_filtered)\n",
    "#     npp_data_filtered = npp_data_filtered[valid_mask]\n",
    "#     temp_data_filtered = temp_data_filtered[valid_mask]\n",
    "\n",
    "#     correlation_coefficients, _ = pearsonr(npp_data_filtered, temp_data_filtered)\n",
    "\n",
    "#     # 创建相关性图像并将相关性系数放回相应位置\n",
    "#     correlation_image = np.full(npp_data.shape, np.nan)\n",
    "#     correlation_image[valid_indices] = correlation_coefficients\n",
    "\n",
    "\n",
    "\n",
    "#     # 关闭数据集\n",
    "#     npp_dataset = None\n",
    "#     temp_dataset = None"
   ]
  },
  {
   "cell_type": "code",
   "execution_count": 13,
   "id": "a117f0e3-a0ae-4c53-8261-e2e60397c853",
   "metadata": {
    "tags": []
   },
   "outputs": [
    {
     "ename": "IndexError",
     "evalue": "too many indices for array: array is 1-dimensional, but 2 were indexed",
     "output_type": "error",
     "traceback": [
      "\u001b[1;31m---------------------------------------------------------------------------\u001b[0m",
      "\u001b[1;31mIndexError\u001b[0m                                Traceback (most recent call last)",
      "Cell \u001b[1;32mIn[13], line 25\u001b[0m\n\u001b[0;32m     22\u001b[0m     correlation_image[i, j] \u001b[38;5;241m=\u001b[39m correlation_coefficient\n\u001b[0;32m     23\u001b[0m \u001b[38;5;28;01melse\u001b[39;00m:\n\u001b[0;32m     24\u001b[0m     \u001b[38;5;66;03m# 处理空值，将相关性图像中的对应像元设置为特定值，如 np.nan\u001b[39;00m\n\u001b[1;32m---> 25\u001b[0m     \u001b[43mcorrelation_image\u001b[49m\u001b[43m[\u001b[49m\u001b[43mi\u001b[49m\u001b[43m,\u001b[49m\u001b[43m \u001b[49m\u001b[43mj\u001b[49m\u001b[43m]\u001b[49m \u001b[38;5;241m=\u001b[39m np\u001b[38;5;241m.\u001b[39mnan\n",
      "\u001b[1;31mIndexError\u001b[0m: too many indices for array: array is 1-dimensional, but 2 were indexed"
     ]
    }
   ],
   "source": [
    "# 迭代每个像元并计算相关性\n",
    "for i in range(rows):\n",
    "    for j in range(cols):\n",
    "        npp_values = []\n",
    "        temp_values = []\n",
    "\n",
    "        for idx, (npp_file, temp_file) in enumerate(zip(npp_files, temp_files)):\n",
    "            npp_dataset = gdal.Open(npp_file, gdal.GA_ReadOnly)\n",
    "            temp_dataset = gdal.Open(temp_file, gdal.GA_ReadOnly)\n",
    "            npp_pixel = npp_dataset.ReadAsArray(j, i, 1, 1)\n",
    "            temp_pixel = temp_dataset.ReadAsArray(j, i, 1, 1)\n",
    "            \n",
    "            if not np.isnan(npp_pixel) and not np.isnan(temp_pixel):\n",
    "                npp_values.append(npp_pixel[0, 0])\n",
    "                temp_values.append(temp_pixel[0, 0])\n",
    "            else:\n",
    "                valid_indices[idx] = False\n",
    "\n",
    "        # 计算相关性系数\n",
    "        if npp_values and temp_values:\n",
    "            correlation_coefficient, _ = pearsonr(npp_values, temp_values)\n",
    "            correlation_image[i, j] = correlation_coefficient\n",
    "        else:\n",
    "            # 处理空值，将相关性图像中的对应像元设置为特定值，如 np.nan\n",
    "            correlation_image[i, j] = np.nan"
   ]
  },
  {
   "cell_type": "code",
   "execution_count": 14,
   "id": "fc2d55b8-6ab4-445c-a319-6d312a04ea5d",
   "metadata": {
    "tags": []
   },
   "outputs": [
    {
     "ename": "NameError",
     "evalue": "name 'write_geotiff' is not defined",
     "output_type": "error",
     "traceback": [
      "\u001b[1;31m---------------------------------------------------------------------------\u001b[0m",
      "\u001b[1;31mNameError\u001b[0m                                 Traceback (most recent call last)",
      "Cell \u001b[1;32mIn[14], line 3\u001b[0m\n\u001b[0;32m      1\u001b[0m \u001b[38;5;66;03m# 创建相关性图像的TIFF文件\u001b[39;00m\n\u001b[0;32m      2\u001b[0m output_file \u001b[38;5;241m=\u001b[39m \u001b[38;5;124m'\u001b[39m\u001b[38;5;124mcorrelation_image.tif\u001b[39m\u001b[38;5;124m'\u001b[39m\n\u001b[1;32m----> 3\u001b[0m \u001b[43mwrite_geotiff\u001b[49m(output_file, correlation_coefficient,\u001b[38;5;124m'\u001b[39m\u001b[38;5;124m./NPP/NPP_2001.tif\u001b[39m\u001b[38;5;124m'\u001b[39m)\n\u001b[0;32m      5\u001b[0m \u001b[38;5;28mprint\u001b[39m(\u001b[38;5;124m\"\u001b[39m\u001b[38;5;124mCorrelation image saved to\u001b[39m\u001b[38;5;124m\"\u001b[39m, output_file)\n",
      "\u001b[1;31mNameError\u001b[0m: name 'write_geotiff' is not defined"
     ]
    }
   ],
   "source": [
    "# 创建相关性图像的TIFF文件\n",
    "output_file = 'correlation_image.tif'\n",
    "write_geotiff(output_file, correlation_coefficient,'./NPP/NPP_2001.tif')\n",
    "\n",
    "print(\"Correlation image saved to\", output_file)"
   ]
  },
  {
   "cell_type": "code",
   "execution_count": 42,
   "id": "ad5c2b39-2c81-486f-8aab-87f446362834",
   "metadata": {
    "tags": []
   },
   "outputs": [
    {
     "data": {
      "image/png": "[encoded data removed]",
      "text/plain": [
       "<Figure size 640x480 with 2 Axes>"
      ]
     },
     "metadata": {},
     "output_type": "display_data"
    }
   ],
   "source": [
    "plt.imshow(correlation_image, cmap='RdYlGn', interpolation='nearest')\n",
    "plt.colorbar(label=\"相关性值\")\n",
    "plt.title(\"NPP 分布图\")\n",
    "plt.show()"
   ]
  },
  {
   "cell_type": "code",
   "execution_count": 43,
   "id": "cbab5cd1-7277-46ea-bead-9a8252ac9139",
   "metadata": {
    "tags": []
   },
   "outputs": [],
   "source": [
    "def write_geotiff(filename, data, reference_file):\n",
    "    dataset = gdal.Open(reference_file, gdal.GA_ReadOnly)\n",
    "    driver = gdal.GetDriverByName('GTiff')\n",
    "    output_dataset = driver.Create(filename, data.shape[1], data.shape[0], 1, gdal.GDT_Float32)\n",
    "    output_dataset.SetProjection(dataset.GetProjection())\n",
    "    output_dataset.SetGeoTransform(dataset.GetGeoTransform())\n",
    "    band = output_dataset.GetRasterBand(1)\n",
    "    band.WriteArray(data)\n",
    "    output_dataset = None"
   ]
  },
  {
   "cell_type": "code",
   "execution_count": 45,
   "id": "a183ea89-6f85-4780-9d89-2de01ce76594",
   "metadata": {
    "tags": []
   },
   "outputs": [
    {
     "name": "stdout",
     "output_type": "stream",
     "text": [
      "Correlation image saved to correlation_image2.tif\n"
     ]
    }
   ],
   "source": [
    "# 创建相关性图像的TIFF文件\n",
    "output_file = 'correlation_image2.tif'\n",
    "write_geotiff(output_file, correlation_image,'./NPP/NPP_2001.tif')\n",
    "\n",
    "print(\"Correlation image saved to\", output_file)"
   ]
  },
  {
   "cell_type": "code",
   "execution_count": null,
   "id": "02832de6-c233-4a12-af76-c309a7732648",
   "metadata": {},
   "outputs": [],
   "source": []
  },
  {
   "cell_type": "code",
   "execution_count": null,
   "id": "183dc5a8-f154-4456-9de8-34f3357a259c",
   "metadata": {},
   "outputs": [],
   "source": []
  },
  {
   "cell_type": "code",
   "execution_count": 14,
   "id": "f49894b3-5977-4317-b7ba-fa8c492e8482",
   "metadata": {
    "tags": []
   },
   "outputs": [
    {
     "data": {
      "text/plain": [
       "array([[nan, nan, nan, ..., nan, nan, nan],\n",
       "       [nan, nan, nan, ..., nan, nan, nan],\n",
       "       [nan, nan, nan, ..., nan, nan, nan],\n",
       "       ...,\n",
       "       [nan, nan, nan, ..., nan, nan, nan],\n",
       "       [nan, nan, nan, ..., nan, nan, nan],\n",
       "       [nan, nan, nan, ..., nan, nan, nan]])"
      ]
     },
     "execution_count": 14,
     "metadata": {},
     "output_type": "execute_result"
    }
   ],
   "source": [
    "# 计算相关性\n",
    "correlation_coefficient = np.corrcoef(npp_data, temp_data)\n",
    "correlation_coefficient"
   ]
  },
  {
   "cell_type": "code",
   "execution_count": 17,
   "id": "40e36316-2d2a-4b99-8021-4dc9ed84c84e",
   "metadata": {
    "tags": []
   },
   "outputs": [
    {
     "data": {
      "image/png": "[encoded data removed]",
      "text/plain": [
       "<Figure size 640x480 with 2 Axes>"
      ]
     },
     "metadata": {},
     "output_type": "display_data"
    }
   ],
   "source": [
    "plt.imshow(correlation_coefficient, cmap='RdYlGn', interpolation='nearest')\n",
    "plt.colorbar(label=\"相关性值\")\n",
    "plt.title(\"NPP 分布图\")\n",
    "plt.show()"
   ]
  },
  {
   "cell_type": "code",
   "execution_count": null,
   "id": "7c2b31ab-2b7f-4f49-96e7-cf39cd3c0281",
   "metadata": {},
   "outputs": [],
   "source": []
  }
 ],
 "metadata": {
  "kernelspec": {
   "display_name": "Python 3 (ipykernel)",
   "language": "python",
   "name": "python3"
  },
  "language_info": {
   "codemirror_mode": {
    "name": "ipython",
    "version": 3
   },
   "file_extension": ".py",
   "mimetype": "text/x-python",
   "name": "python",
   "nbconvert_exporter": "python",
   "pygments_lexer": "ipython3",
   "version": "3.10.11"
  }
 },
 "nbformat": 4,
 "nbformat_minor": 5
}
