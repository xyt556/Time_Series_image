{
 "cells": [
  {
   "cell_type": "markdown",
   "metadata": {},
   "source": [
    "# Hurst for Image"
   ]
  },
  {
   "cell_type": "markdown",
   "metadata": {},
   "source": [
    "## 方法一\n",
    "将数据存储在一个目录下，读取目录"
   ]
  },
  {
   "cell_type": "code",
   "execution_count": 1,
   "metadata": {
    "tags": []
   },
   "outputs": [],
   "source": [
    "import numpy as np\n",
    "from osgeo import gdal\n",
    "import os"
   ]
  },
  {
   "cell_type": "code",
   "execution_count": 2,
   "metadata": {
    "collapsed": true,
    "jupyter": {
     "outputs_hidden": true
    },
    "tags": []
   },
   "outputs": [],
   "source": [
    "def write(file_name, image, projection,geotransform,x_size,y_size):\n",
    "    dtype = gdal.GDT_Float32\n",
    "    # 数据格式\n",
    "    driver = gdal.GetDriverByName('GTIFF')\n",
    "    # 创建数据,设置文件路径及名称\n",
    "    new_ds = driver.Create(file_name, x_size, y_size, 1, dtype)\n",
    "    # 设置投影信息及6参数\n",
    "    new_ds.SetGeoTransform(geotransform)\n",
    "    new_ds.SetProjection(projection)\n",
    "    # 将值写入new_ds中\n",
    "    new_ds.GetRasterBand(1).WriteArray(image)\n",
    "    # 把缓存数据写入磁盘\n",
    "    new_ds.FlushCache()\n",
    "\n",
    "    del new_ds"
   ]
  },
  {
   "cell_type": "code",
   "execution_count": 3,
   "metadata": {
    "tags": []
   },
   "outputs": [],
   "source": [
    "def Hurst(x):\n",
    "    # x为numpy数组\n",
    "    n = x.shape[0]\n",
    "    t = np.zeros(n - 1)  # t为时间序列的差分\n",
    "    for i in range(n - 1):\n",
    "        t[i] = x[i + 1] - x[i]\n",
    "    mt = np.zeros(n - 1)  # mt为均值序列,i为索引,i+1表示序列从1开始\n",
    "    for i in range(n - 1):\n",
    "        mt[i] = np.sum(t[0:i + 1]) / (i + 1)\n",
    "\n",
    "    # Step3累积离差和极差,r为极差\n",
    "    r = []\n",
    "    for i in np.arange(1, n):  # i为tao\n",
    "        cha = []\n",
    "        for j in np.arange(1, i + 1):\n",
    "            if i == 1:\n",
    "                cha.append(t[j - 1] - mt[i - 1])\n",
    "            if i > 1:\n",
    "                if j == 1:\n",
    "                    cha.append(t[j - 1] - mt[i - 1])\n",
    "                if j > 1:\n",
    "                    cha.append(cha[j - 2] + t[j - 1] - mt[i - 1])\n",
    "        r.append(np.max(cha) - np.min(cha))\n",
    "    s = []\n",
    "    for i in np.arange(1, n):\n",
    "        ss = []\n",
    "        for j in np.arange(1, i + 1):\n",
    "            ss.append((t[j - 1] - mt[i - 1]) ** 2)\n",
    "        s.append(np.sqrt(np.sum(ss) / i))\n",
    "    r = np.array(r)\n",
    "    s = np.array(s)\n",
    "    xdata = np.log(np.arange(2, n))\n",
    "    ydata = np.log(r[1:] / s[1:])\n",
    "\n",
    "    h, b = np.polyfit(xdata, ydata, 1)\n",
    "    return h"
   ]
  },
  {
   "cell_type": "code",
   "execution_count": 4,
   "metadata": {
    "tags": []
   },
   "outputs": [],
   "source": [
    "def main(path1,result_path):\n",
    "    filepaths = []\n",
    "    for file in os.listdir(path1):\n",
    "        filepath1 = os.path.join(path1, file)\n",
    "        filepaths.append(filepath1)\n",
    "\n",
    "    # 获取影像数量\n",
    "    num_images = len(filepaths)\n",
    "    # 读取影像数据\n",
    "    img1 = gdal.Open(filepaths[0])\n",
    "    # 获取影像的投影，高度和宽度\n",
    "    transform1 = img1.GetGeoTransform()\n",
    "    proj = img1.GetProjection()\n",
    "    height1 = img1.RasterYSize\n",
    "    width1 = img1.RasterXSize\n",
    "    array1 = img1.ReadAsArray(0, 0, width1, height1)\n",
    "    del img1\n",
    "\n",
    "    # 读取所有影像\n",
    "    for path1 in filepaths[1:]:\n",
    "        if path1[-3:] == 'tif':\n",
    "\n",
    "            img2 = gdal.Open(path1)\n",
    "            array2 = img2.ReadAsArray(0, 0, width1, height1)\n",
    "            array1 = np.vstack((array1, array2))\n",
    "            del img2\n",
    "\n",
    "    array1 = array1.reshape((num_images, height1, width1))\n",
    "    # 输出矩阵，无值区用nan填充\n",
    "    h_array = np.full([height1, width1], np.nan)\n",
    "\n",
    "    # 只有有值的区域才进行计算\n",
    "    c1 = np.isnan(array1)\n",
    "    sum_array1 = np.sum(c1, axis=0)\n",
    "    nan_positions = np.where(sum_array1 == num_images)\n",
    "    positions = np.where(sum_array1<10)\n",
    "    for i in range(len(positions[0])):\n",
    "        x = positions[0][i]\n",
    "        y = positions[1][i]\n",
    "        hurst_list1 = array1[:, x, y]\n",
    "        hurst_list1=hurst_list1[~np.isnan(hurst_list1)]\n",
    "        h = Hurst(hurst_list1)\n",
    "        h_array[x, y] = h\n",
    "\n",
    "    write(result_path, h_array, proj, transform1, width1, height1)"
   ]
  },
  {
   "cell_type": "code",
   "execution_count": 6,
   "metadata": {
    "tags": []
   },
   "outputs": [
    {
     "name": "stderr",
     "output_type": "stream",
     "text": [
      "C:\\Users\\xyt55\\AppData\\Local\\Temp\\ipykernel_14860\\1600558091.py:33: RuntimeWarning: invalid value encountered in divide\n",
      "  ydata = np.log(r[1:] / s[1:])\n"
     ]
    }
   ],
   "source": [
    "if __name__ == \"__main__\":\n",
    "    path1 = \"./NPP\"\n",
    "    result_path = r\"h.tif\"\n",
    "    main(path1,result_path)"
   ]
  },
  {
   "cell_type": "markdown",
   "metadata": {},
   "source": [
    "## 方法二"
   ]
  },
  {
   "cell_type": "markdown",
   "metadata": {},
   "source": [
    "以2000-2020年的降水为例，首先将数据合并成一个tif文件，即一个时间对应一个波段，2000年降水量为第1波段，2001年为第2波段，以此类推，2020年为第21波段。"
   ]
  },
  {
   "cell_type": "code",
   "execution_count": 1,
   "metadata": {
    "tags": []
   },
   "outputs": [],
   "source": [
    "from osgeo import gdal\n",
    "import numpy as np\n",
    "import os\n",
    "\n",
    "def merge_tiff_files(input_folder, output_file):\n",
    "    # 获取输入文件夹中的所有文件\n",
    "    input_files = [f for f in os.listdir(input_folder) if f.endswith('.tif')]\n",
    "\n",
    "    # 创建输出文件\n",
    "    driver = gdal.GetDriverByName('GTiff')\n",
    "    input_raster = gdal.Open(os.path.join(input_folder, input_files[0]))\n",
    "    output_raster = driver.Create(output_file, input_raster.RasterXSize, input_raster.RasterYSize,\n",
    "                                  len(input_files), gdal.GDT_Float32)\n",
    "    output_raster.SetProjection(input_raster.GetProjection())\n",
    "    output_raster.SetGeoTransform(input_raster.GetGeoTransform())\n",
    "\n",
    "    # 逐个添加波段数据\n",
    "    for i, input_file in enumerate(input_files, start=1):\n",
    "        input_raster = gdal.Open(os.path.join(input_folder, input_file))\n",
    "        band = input_raster.GetRasterBand(1)\n",
    "        data = band.ReadAsArray()\n",
    "        output_raster.GetRasterBand(i).WriteArray(data)\n",
    "\n",
    "    # 保存文件\n",
    "    output_raster.FlushCache()\n",
    "    output_raster = None\n",
    "\n",
    "# 使用示例\n",
    "input_folder = './NPP'\n",
    "output_file = 'NPP_merged.tif'\n",
    "merge_tiff_files(input_folder, output_file)\n"
   ]
  },
  {
   "cell_type": "code",
   "execution_count": 6,
   "metadata": {
    "tags": []
   },
   "outputs": [
    {
     "name": "stdout",
     "output_type": "stream",
     "text": [
      "0.7486779334192257\n"
     ]
    }
   ],
   "source": [
    "import numpy as np\n",
    "from osgeo import gdal\n",
    "import os\n",
    "\"\"\"\n",
    "计算hurst指数\n",
    "\"\"\"\n",
    "\n",
    "\n",
    "def Hurst(x):\n",
    "    # x为numpy数组\n",
    "    n = x.shape[0]\n",
    "    t = np.zeros(n - 1)  # t为时间序列的差分\n",
    "    for i in range(n - 1):\n",
    "        t[i] = x[i + 1] - x[i]\n",
    "    mt = np.zeros(n - 1)  # mt为均值序列,i为索引,i+1表示序列从1开始\n",
    "    for i in range(n - 1):\n",
    "        mt[i] = np.sum(t[0:i + 1]) / (i + 1)\n",
    "\n",
    "    # Step3累积离差和极差,r为极差\n",
    "    r = []\n",
    "    for i in np.arange(1, n):  # i为tao\n",
    "        cha = []\n",
    "        for j in np.arange(1, i + 1):\n",
    "            if i == 1:\n",
    "                cha.append(t[j - 1] - mt[i - 1])\n",
    "            if i > 1:\n",
    "                if j == 1:\n",
    "                    cha.append(t[j - 1] - mt[i - 1])\n",
    "                if j > 1:\n",
    "                    cha.append(cha[j - 2] + t[j - 1] - mt[i - 1])\n",
    "        r.append(np.max(cha) - np.min(cha))\n",
    "    s = []\n",
    "    for i in np.arange(1, n):\n",
    "        ss = []\n",
    "        for j in np.arange(1, i + 1):\n",
    "            ss.append((t[j - 1] - mt[i - 1]) ** 2)\n",
    "        s.append(np.sqrt(np.sum(ss) / i))\n",
    "    r = np.array(r)\n",
    "    s = np.array(s)\n",
    "    xdata = np.log(np.arange(2, n))\n",
    "    ydata = np.log(r[1:] / s[1:])\n",
    "\n",
    "    h, b = np.polyfit(xdata, ydata, 1)\n",
    "    return h\n",
    "\n",
    "if __name__ == '__main__':\n",
    "\n",
    "    x = np.array([1.59, 1.57, 1.56, 1.54, 1.52, 1.50, 1.47, 1.43, 1.41, 1.40, 1.39])\n",
    "    print(Hurst(x))\n",
    " # 0.7486779334192257"
   ]
  },
  {
   "cell_type": "code",
   "execution_count": 7,
   "metadata": {
    "tags": []
   },
   "outputs": [],
   "source": [
    "from tqdm import tqdm  // 进度条显示\n",
    "def ImageHurst(imgpath,  outtif):\n",
    "    \"\"\"\n",
    "    计算影像的hurst指数\n",
    "    :param imgpath: 影像路径，多波段\n",
    "    :param outtif: 输出结果路径\n",
    "    :return: None\n",
    "    \"\"\"\n",
    "    # 读取影像的信息和数据\n",
    "    ds1 = gdal.Open(imgpath)\n",
    "    projinfo = ds1.GetProjection()\n",
    "    geotransform = ds1.GetGeoTransform()\n",
    "    rows = ds1.RasterYSize\n",
    "    colmns = ds1.RasterXSize\n",
    "    data1 = ds1.ReadAsArray()\n",
    "    print(data1.shape)\n",
    "\n",
    "    src_nodta = ds1.GetRasterBand(1).GetNoDataValue()\n",
    "\n",
    "    # 创建输出图像\n",
    "    format = \"GTiff\"\n",
    "    driver = gdal.GetDriverByName(format)\n",
    "    dst_ds = driver.Create(outtif, colmns, rows, 1,gdal.GDT_Float32)\n",
    "    dst_ds.SetGeoTransform(geotransform)\n",
    "    dst_ds.SetProjection(projinfo)\n",
    "\n",
    "    # 删除对象\n",
    "    ds1 = None\n",
    "\n",
    "    # 开始计算指数\n",
    "\n",
    "    band1 = data1[0]\n",
    "    out = band1 * 0 - 2222\n",
    "    for row in tqdm(range(rows)):\n",
    "        for col in range(colmns):\n",
    "            if src_nodta is None:\n",
    "                x = data1[:, row, col]\n",
    "                hindex  =  Hurst(x)\n",
    "                out[row, col] = hindex\n",
    "            else:\n",
    "                if band1[row, col] != src_nodta:\n",
    "                    x = data1[:, row, col]\n",
    "                    hindex = Hurst(x)\n",
    "                    out[row, col] = hindex\n",
    "    # 写出图像\n",
    "    dst_ds.GetRasterBand(1).WriteArray(out)\n",
    "\n",
    "    # 设置nodata\n",
    "    dst_ds.GetRasterBand(1).SetNoDataValue(-2222)\n",
    "    dst_ds = None"
   ]
  },
  {
   "cell_type": "code",
   "execution_count": 8,
   "metadata": {
    "tags": []
   },
   "outputs": [
    {
     "name": "stdout",
     "output_type": "stream",
     "text": [
      "(22, 684, 1115)\n"
     ]
    },
    {
     "name": "stderr",
     "output_type": "stream",
     "text": [
      "  5%|██████████▍                                                                                                                                                                                      | 37/684 [00:39<11:29,  1.07s/it]C:\\Users\\xyt55\\AppData\\Local\\Temp\\ipykernel_21460\\423640304.py:41: RuntimeWarning: invalid value encountered in divide\n",
      "  ydata = np.log(r[1:] / s[1:])\n",
      "100%|████████████████████████████████████████████████████████████████████████████████████████████████████████████████████████████████████████████████████████████████████████████████████████████████| 684/684 [12:07<00:00,  1.06s/it]\n"
     ]
    }
   ],
   "source": [
    "imgpath = 'NPP_merged.tif'\n",
    "outtif = 'NPP_Hurst1.tif'\n",
    "ImageHurst(imgpath,  outtif)"
   ]
  },
  {
   "cell_type": "code",
   "execution_count": null,
   "metadata": {},
   "outputs": [],
   "source": []
  },
  {
   "cell_type": "code",
   "execution_count": null,
   "metadata": {
    "jupyter": {
     "source_hidden": true
    },
    "tags": []
   },
   "outputs": [],
   "source": []
  },
  {
   "cell_type": "markdown",
   "metadata": {},
   "source": []
  },
  {
   "cell_type": "code",
   "execution_count": 9,
   "metadata": {
    "tags": []
   },
   "outputs": [
    {
     "ename": "ImportError",
     "evalue": "cannot import name 'trend_test' from 'pymannkendall' (E:\\Geo_Data\\venv\\lib\\site-packages\\pymannkendall\\__init__.py)",
     "output_type": "error",
     "traceback": [
      "\u001b[1;31m---------------------------------------------------------------------------\u001b[0m",
      "\u001b[1;31mImportError\u001b[0m                               Traceback (most recent call last)",
      "Cell \u001b[1;32mIn[9], line 5\u001b[0m\n\u001b[0;32m      3\u001b[0m \u001b[38;5;28;01mimport\u001b[39;00m \u001b[38;5;21;01mnumpy\u001b[39;00m \u001b[38;5;28;01mas\u001b[39;00m \u001b[38;5;21;01mnp\u001b[39;00m\n\u001b[0;32m      4\u001b[0m \u001b[38;5;28;01mimport\u001b[39;00m \u001b[38;5;21;01mmatplotlib\u001b[39;00m\u001b[38;5;21;01m.\u001b[39;00m\u001b[38;5;21;01mpyplot\u001b[39;00m \u001b[38;5;28;01mas\u001b[39;00m \u001b[38;5;21;01mplt\u001b[39;00m\n\u001b[1;32m----> 5\u001b[0m \u001b[38;5;28;01mfrom\u001b[39;00m \u001b[38;5;21;01mpymannkendall\u001b[39;00m \u001b[38;5;28;01mimport\u001b[39;00m trend_test\n\u001b[0;32m      7\u001b[0m \u001b[38;5;66;03m# 定义NPP图像所在的目录路径\u001b[39;00m\n\u001b[0;32m      8\u001b[0m npp_directory \u001b[38;5;241m=\u001b[39m \u001b[38;5;124m'\u001b[39m\u001b[38;5;124m./NPP/\u001b[39m\u001b[38;5;124m'\u001b[39m\n",
      "\u001b[1;31mImportError\u001b[0m: cannot import name 'trend_test' from 'pymannkendall' (E:\\Geo_Data\\venv\\lib\\site-packages\\pymannkendall\\__init__.py)"
     ]
    }
   ],
   "source": [
    "import os\n",
    "from osgeo import gdal\n",
    "import numpy as np\n",
    "import matplotlib.pyplot as plt\n",
    "from pymannkendall import trend_test\n",
    "\n",
    "# 定义NPP图像所在的目录路径\n",
    "npp_directory = './NPP/'\n",
    "\n",
    "# 获取目录中的所有TIFF文件\n",
    "tif_files = [os.path.join(npp_directory, file) for file in os.listdir(npp_directory) if file.endswith('.tif')]\n",
    "\n",
    "# 读取TIFF文件并提取NPP数据\n",
    "npp_data = {}\n",
    "for tif_file in tif_files:\n",
    "    year = int(os.path.basename(tif_file).split('_')[1].split('.')[0])  # 提取年份信息\n",
    "    ds = gdal.Open(tif_file)\n",
    "    npp_values = ds.GetRasterBand(1).ReadAsArray()\n",
    "    npp_data[year] = np.mean(npp_values)  # 这里假设你想使用平均值作为年度数据，你可以根据需要更改\n",
    "\n",
    "# 提取年份和NPP数据\n",
    "years = np.array(list(npp_data.keys()))\n",
    "npp_values = np.array(list(npp_data.values()))\n",
    "\n",
    "# 绘制原始NPP时间序列图像\n",
    "plt.figure(figsize=(12, 6))\n",
    "plt.plot(years, npp_values, marker='o', linestyle='-', color='b')\n",
    "plt.title('Net Primary Productivity (NPP) Over Time')\n",
    "plt.xlabel('Year')\n",
    "plt.ylabel('NPP')\n",
    "plt.grid(True)\n",
    "plt.show()\n",
    "\n",
    "# 应用Mann-Kendall检验\n",
    "result, trend = trend_test(npp_values)\n",
    "print(f'Mann-Kendall Test Result:')\n",
    "print(f'  Trend: {trend}')\n",
    "print(f'  Result: {result}')\n",
    "\n",
    "# 绘制趋势图像\n",
    "plt.figure(figsize=(12, 6))\n",
    "plt.plot(years, npp_values, marker='o', linestyle='-', color='b', label='NPP Data')\n",
    "plt.plot(years, np.ones_like(years) * np.mean(npp_values), linestyle='--', color='r', label='Mean')\n",
    "plt.title('Net Primary Productivity (NPP) Trend Over Time')\n",
    "plt.xlabel('Year')\n",
    "plt.ylabel('NPP')\n",
    "plt.legend()\n",
    "plt.grid(True)\n",
    "plt.show()\n",
    "\n",
    "# 创建新的TIFF文件并保存趋势结果\n",
    "output_tiff_path = 'NPP_trend_result.tif'\n",
    "driver = gdal.GetDriverByName('GTiff')\n",
    "output_ds = driver.Create(output_tiff_path, 1, 1, 1, gdal.GDT_Float32)\n",
    "output_ds.GetRasterBand(1).WriteArray(np.array([trend]))\n",
    "output_ds.FlushCache()\n",
    "output_ds = None\n",
    "\n",
    "print(f'Trend result saved to {output_tiff_path}')\n"
   ]
  },
  {
   "cell_type": "code",
   "execution_count": null,
   "metadata": {},
   "outputs": [],
   "source": []
  }
 ],
 "metadata": {
  "kernelspec": {
   "display_name": "Python 3 (ipykernel)",
   "language": "python",
   "name": "python3"
  },
  "language_info": {
   "codemirror_mode": {
    "name": "ipython",
    "version": 3
   },
   "file_extension": ".py",
   "mimetype": "text/x-python",
   "name": "python",
   "nbconvert_exporter": "python",
   "pygments_lexer": "ipython3",
   "version": "3.10.11"
  }
 },
 "nbformat": 4,
 "nbformat_minor": 4
}
