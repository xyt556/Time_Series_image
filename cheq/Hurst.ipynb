{
 "cells": [
  {
   "cell_type": "code",
   "execution_count": 2,
   "id": "d3177b13-86c2-42e6-af24-02898772ea12",
   "metadata": {
    "tags": []
   },
   "outputs": [],
   "source": [
    "import numpy as np\n",
    "from hurst import compute_Hc\n",
    "from osgeo import gdal, gdalconst\n"
   ]
  },
  {
   "cell_type": "code",
   "execution_count": 7,
   "id": "20cfb0e1-e1f9-4a2a-8dfd-0ea3e0e5b300",
   "metadata": {
    "tags": []
   },
   "outputs": [],
   "source": [
    "npp_files = ['./NPP_test/NPP_2001.tif', './NPP_test/NPP_2002.tif', './NPP_test/NPP_2003.tif', './NPP_test/NPP_2004.tif', './NPP_test/NPP_2005.tif', './NPP_test/NPP_2006.tif', './NPP_test/NPP_2007.tif', './NPP_test/NPP_2008.tif', './NPP_test/NPP_2009.tif', './NPP_test/NPP_2010.tif', './NPP_test/NPP_2011.tif', './NPP_test/NPP_2012.tif', './NPP_test/NPP_2013.tif', './NPP_test/NPP_2014.tif', './NPP_test/NPP_2015.tif', './NPP_test/NPP_2016.tif', './NPP_test/NPP_2017.tif', './NPP_test/NPP_2018.tif', './NPP_test/NPP_2019.tif', './NPP_test/NPP_2020.tif', './NPP_test/NPP_2021.tif', './NPP_test/NPP_2022.tif']\n",
    "output_file = 'hurst_index.tif'\n"
   ]
  },
  {
   "cell_type": "code",
   "execution_count": 8,
   "id": "8e7703f7-cfcc-43dd-a8f0-dffe88b449ff",
   "metadata": {
    "tags": []
   },
   "outputs": [],
   "source": [
    "npp_dataset = gdal.Open(npp_files[0], gdal.GA_ReadOnly)\n",
    "rows, cols = npp_dataset.RasterYSize, npp_dataset.RasterXSize\n"
   ]
  },
  {
   "cell_type": "code",
   "execution_count": 9,
   "id": "c3b04683-0689-4ce8-b8dd-36fb158f2405",
   "metadata": {
    "tags": []
   },
   "outputs": [
    {
     "data": {
      "text/plain": [
       "0"
      ]
     },
     "execution_count": 9,
     "metadata": {},
     "output_type": "execute_result"
    }
   ],
   "source": [
    "driver = gdal.GetDriverByName('GTiff')\n",
    "hurst_dataset = driver.Create(output_file, cols, rows, 1, gdal.GDT_Float32)\n",
    "hurst_band = hurst_dataset.GetRasterBand(1)\n",
    "hurst_dataset.SetGeoTransform(npp_dataset.GetGeoTransform())\n",
    "hurst_dataset.SetProjection(npp_dataset.GetProjection())\n"
   ]
  },
  {
   "cell_type": "code",
   "execution_count": null,
   "id": "22288df8-7b02-4e66-b4ea-fd5c3091523b",
   "metadata": {},
   "outputs": [],
   "source": []
  },
  {
   "cell_type": "code",
   "execution_count": 10,
   "id": "4e1e40dd-5c6e-4013-8e14-11953f5b1d49",
   "metadata": {
    "tags": []
   },
   "outputs": [
    {
     "ename": "ValueError",
     "evalue": "Series length must be greater or equal to 100",
     "output_type": "error",
     "traceback": [
      "\u001b[1;31m---------------------------------------------------------------------------\u001b[0m",
      "\u001b[1;31mValueError\u001b[0m                                Traceback (most recent call last)",
      "Cell \u001b[1;32mIn[10], line 13\u001b[0m\n\u001b[0;32m     11\u001b[0m \u001b[38;5;66;03m# 使用 hurst 库计算 Hurst 指数\u001b[39;00m\n\u001b[0;32m     12\u001b[0m \u001b[38;5;28;01mif\u001b[39;00m \u001b[38;5;28mlen\u001b[39m(pixel_values) \u001b[38;5;241m>\u001b[39m \u001b[38;5;241m1\u001b[39m:\n\u001b[1;32m---> 13\u001b[0m     H, c, data \u001b[38;5;241m=\u001b[39m \u001b[43mcompute_Hc\u001b[49m\u001b[43m(\u001b[49m\u001b[43mpixel_values\u001b[49m\u001b[43m)\u001b[49m\n\u001b[0;32m     14\u001b[0m     hurst_band\u001b[38;5;241m.\u001b[39mWriteArray(np\u001b[38;5;241m.\u001b[39marray(H), j, i)\n\u001b[0;32m     15\u001b[0m \u001b[38;5;28;01melse\u001b[39;00m:\n",
      "File \u001b[1;32mE:\\Geo_Data\\venv\\lib\\site-packages\\hurst\\__init__.py:147\u001b[0m, in \u001b[0;36mcompute_Hc\u001b[1;34m(series, kind, min_window, max_window, simplified)\u001b[0m\n\u001b[0;32m    107\u001b[0m \u001b[38;5;250m\u001b[39m\u001b[38;5;124;03m\"\"\"\u001b[39;00m\n\u001b[0;32m    108\u001b[0m \u001b[38;5;124;03mCompute H (Hurst exponent) and C according to Hurst equation:\u001b[39;00m\n\u001b[0;32m    109\u001b[0m \u001b[38;5;124;03mE(R/S) = c * T^H\u001b[39;00m\n\u001b[1;32m   (...)\u001b[0m\n\u001b[0;32m    143\u001b[0m \u001b[38;5;124;03m    for further plotting log(data[0]) on X and log(data[1]) on Y\u001b[39;00m\n\u001b[0;32m    144\u001b[0m \u001b[38;5;124;03m\"\"\"\u001b[39;00m\n\u001b[0;32m    146\u001b[0m \u001b[38;5;28;01mif\u001b[39;00m \u001b[38;5;28mlen\u001b[39m(series)\u001b[38;5;241m<\u001b[39m\u001b[38;5;241m100\u001b[39m:\n\u001b[1;32m--> 147\u001b[0m     \u001b[38;5;28;01mraise\u001b[39;00m \u001b[38;5;167;01mValueError\u001b[39;00m(\u001b[38;5;124m\"\u001b[39m\u001b[38;5;124mSeries length must be greater or equal to 100\u001b[39m\u001b[38;5;124m\"\u001b[39m)\n\u001b[0;32m    149\u001b[0m ndarray_likes \u001b[38;5;241m=\u001b[39m [np\u001b[38;5;241m.\u001b[39mndarray]\n\u001b[0;32m    150\u001b[0m \u001b[38;5;28;01mif\u001b[39;00m \u001b[38;5;124m\"\u001b[39m\u001b[38;5;124mpandas.core.series\u001b[39m\u001b[38;5;124m\"\u001b[39m \u001b[38;5;129;01min\u001b[39;00m sys\u001b[38;5;241m.\u001b[39mmodules\u001b[38;5;241m.\u001b[39mkeys():\n",
      "\u001b[1;31mValueError\u001b[0m: Series length must be greater or equal to 100"
     ]
    }
   ],
   "source": [
    "for i in range(rows):\n",
    "    for j in range(cols):\n",
    "        pixel_values = []\n",
    "\n",
    "        # 从每年的 NPP 文件中读取像素值\n",
    "        for npp_file in npp_files:\n",
    "            npp_dataset = gdal.Open(npp_file, gdal.GA_ReadOnly)\n",
    "            pixel_value = npp_dataset.ReadAsArray(j, i, 1, 1)[0, 0]\n",
    "            pixel_values.append(pixel_value)\n",
    "\n",
    "        # 使用 hurst 库计算 Hurst 指数\n",
    "        if len(pixel_values) > 1:\n",
    "            H, c, data = compute_Hc(pixel_values)\n",
    "            hurst_band.WriteArray(np.array(H), j, i)\n",
    "        else:\n",
    "            hurst_band.WriteArray(np.array(np.nan), j, i)\n"
   ]
  },
  {
   "cell_type": "markdown",
   "id": "93eb8de2-6b6a-49b5-b475-84752c02643d",
   "metadata": {},
   "source": [
    "根据错误信息，出现了一个 ValueError，指出系列的长度必须大于等于 100 才能计算 Hurst 指数。这意味着你的时间序列数据 pixel_values 的长度不足 100，无法进行 Hurst 指数的计算。\n",
    "\n",
    "如果你想要计算 Hurst 指数，你需要有一个足够长的时间序列数据，通常需要包括至少 100 个数据点。如果你的时间序列数据不足 100 个数据点，你可能需要考虑采集更多的数据以满足计算要求。\n",
    "\n",
    "另外，请确保你的 pixel_values 列表包含正确的时间序列数据，并且每个元素是有效的数值数据。如果 pixel_values 不包含足够的数据点，你需要收集更多的数据来进行计算。"
   ]
  },
  {
   "cell_type": "code",
   "execution_count": null,
   "id": "a18d6286-1785-43c2-aea6-15e4e2501e2d",
   "metadata": {},
   "outputs": [],
   "source": [
    "hurst_band.FlushCache()\n",
    "hurst_dataset = None\n"
   ]
  }
 ],
 "metadata": {
  "kernelspec": {
   "display_name": "Python 3 (ipykernel)",
   "language": "python",
   "name": "python3"
  },
  "language_info": {
   "codemirror_mode": {
    "name": "ipython",
    "version": 3
   },
   "file_extension": ".py",
   "mimetype": "text/x-python",
   "name": "python",
   "nbconvert_exporter": "python",
   "pygments_lexer": "ipython3",
   "version": "3.10.11"
  }
 },
 "nbformat": 4,
 "nbformat_minor": 5
}
